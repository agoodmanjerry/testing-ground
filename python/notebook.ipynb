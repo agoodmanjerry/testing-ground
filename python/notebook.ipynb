{
 "cells": [
  {
   "cell_type": "code",
   "execution_count": 4,
   "metadata": {},
   "outputs": [
    {
     "name": "stdout",
     "output_type": "stream",
     "text": [
      "[(0, 'a'), (2, 'a'), (9, 'e'), (4, 'g'), (9, 'u')]\n",
      "[(0, 'a'), (2, 'a'), (4, 'g'), (9, 'e'), (9, 'u')]\n"
     ]
    }
   ],
   "source": [
    "a = [\n",
    "    (0, 'a'),\n",
    "    (4, 'g'),\n",
    "    (9, 'e'),\n",
    "    (9, 'u'),\n",
    "    (2, 'a'),\n",
    "]\n",
    "b = sorted(a, key=lambda input:input[1])\n",
    "print(b)\n",
    "c = sorted(a, key=lambda input:input[0])\n",
    "print(c)"
   ]
  }
 ],
 "metadata": {
  "kernelspec": {
   "display_name": "Python 3",
   "language": "python",
   "name": "python3"
  },
  "language_info": {
   "codemirror_mode": {
    "name": "ipython",
    "version": 3
   },
   "file_extension": ".py",
   "mimetype": "text/x-python",
   "name": "python",
   "nbconvert_exporter": "python",
   "pygments_lexer": "ipython3",
   "version": "3.10.13"
  }
 },
 "nbformat": 4,
 "nbformat_minor": 2
}
